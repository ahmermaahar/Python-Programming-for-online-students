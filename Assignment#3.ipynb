{
 "cells": [
  {
   "cell_type": "code",
   "execution_count": 1,
   "metadata": {},
   "outputs": [
    {
     "name": "stdout",
     "output_type": "stream",
     "text": [
      "enter 1st number:2\n",
      "enter 2nd number:3\n",
      "enter operation:*\n",
      "multiplication=6\n"
     ]
    }
   ],
   "source": [
    "#task1\n",
    "a=int(input(\"enter 1st number:\"))\n",
    "b=int(input(\"enter 2nd number:\"))\n",
    "op=input(\"enter operation:\")\n",
    "if op=='+':\n",
    "    print(\"addition=\"+str(a+b))\n",
    "elif op=='-':\n",
    "    print(\"subtraction=\"+str(a-b))\n",
    "elif op=='*':\n",
    "    print(\"multiplication=\"+str(a*b))\n",
    "elif op=='/':\n",
    "    print(\"addition=\"+str(a//b))\n",
    "elif op=='^':\n",
    "    print(\"power=\"+str(a**b))\n",
    "else:\n",
    "    print(\"wrong operator\")"
   ]
  },
  {
   "cell_type": "code",
   "execution_count": 10,
   "metadata": {},
   "outputs": [
    {
     "name": "stdout",
     "output_type": "stream",
     "text": [
      "yes there is numeric in list\n"
     ]
    }
   ],
   "source": [
    "#task2\n",
    "a=[\"ahmer\",'+',2]\n",
    "b=int\n",
    "for i in a:\n",
    "    if b==type(i):\n",
    "        print(\"yes there is numeric in list\")\n",
    "        break;"
   ]
  },
  {
   "cell_type": "code",
   "execution_count": 12,
   "metadata": {},
   "outputs": [
    {
     "name": "stdout",
     "output_type": "stream",
     "text": [
      "{0: 0, 1: 11, 2: 22, 3: 33}\n",
      "{0: 0, 1: 11, 2: 22, 3: 33, 4: 44}\n"
     ]
    }
   ],
   "source": [
    "#task3\n",
    "c = {0:00, 1:11, 2:22, 3:33}\n",
    "print(c)\n",
    "c.update({4:44})\n",
    "print(c)"
   ]
  },
  {
   "cell_type": "code",
   "execution_count": 21,
   "metadata": {},
   "outputs": [
    {
     "name": "stdout",
     "output_type": "stream",
     "text": [
      "546\n"
     ]
    }
   ],
   "source": [
    "#task4\n",
    "mydict = {'v1':100,'v2':-54,'v3':500}\n",
    "sum = 0\n",
    "for i in mydict:\n",
    "        sum = sum + mydict[i]\n",
    "print(sum)"
   ]
  },
  {
   "cell_type": "code",
   "execution_count": 29,
   "metadata": {},
   "outputs": [
    {
     "name": "stdout",
     "output_type": "stream",
     "text": [
      "[20, 40, 50]\n"
     ]
    }
   ],
   "source": [
    "#task5\n",
    "list = [10,20,20,30,40,40,50,50,60]\n",
    "count = 0\n",
    "item = 0\n",
    "new = []\n",
    "for i in list:\n",
    "    count = list.count(i)\n",
    "    if (count > 1 and item != i):\n",
    "        item = i\n",
    "        new.append(i)\n",
    "print(new)\n",
    "    "
   ]
  },
  {
   "cell_type": "code",
   "execution_count": 44,
   "metadata": {},
   "outputs": [
    {
     "name": "stdout",
     "output_type": "stream",
     "text": [
      "Key is present in the dictionary\n",
      "Key is not present in the dictionary\n"
     ]
    }
   ],
   "source": [
    "#task6\n",
    "d = {1: 10, 2: 20, 3: 30, 4: 40, 5: 50, 6: 60}\n",
    "def is_key_present(x):\n",
    "  if x in d:\n",
    "      print('Key is present in the dictionary')\n",
    "  else:\n",
    "      print('Key is not present in the dictionary')\n",
    "is_key_present(2)\n",
    "is_key_present(8)"
   ]
  },
  {
   "cell_type": "code",
   "execution_count": null,
   "metadata": {},
   "outputs": [],
   "source": []
  }
 ],
 "metadata": {
  "kernelspec": {
   "display_name": "Python 3",
   "language": "python",
   "name": "python3"
  },
  "language_info": {
   "codemirror_mode": {
    "name": "ipython",
    "version": 3
   },
   "file_extension": ".py",
   "mimetype": "text/x-python",
   "name": "python",
   "nbconvert_exporter": "python",
   "pygments_lexer": "ipython3",
   "version": "3.7.4"
  }
 },
 "nbformat": 4,
 "nbformat_minor": 2
}
