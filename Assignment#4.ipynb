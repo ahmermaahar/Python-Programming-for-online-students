{
 "cells": [
  {
   "cell_type": "code",
   "execution_count": 1,
   "metadata": {},
   "outputs": [
    {
     "name": "stdout",
     "output_type": "stream",
     "text": [
      "first_name: ahmer\n",
      "last_name: mahar\n",
      "age: 21\n",
      "city: shikarpur\n",
      "intermediate\n",
      "high academic level\n",
      "{'first_name:': 'ahmer', 'last_name:': 'mahar', 'age:': 21, 'city:': 'shikarpur'}\n"
     ]
    }
   ],
   "source": [
    "#task1\n",
    "person_info={\"first_name:\":\"ahmer\",\"last_name:\":\"mahar\",\"age:\":21,\"city:\":\"shikarpur\"}\n",
    "for i,j in person_info.items():\n",
    "    print(i,j)\n",
    "\n",
    "person_info[\"Qualification\"]=\"intermediate\"\n",
    "print(person_info[\"Qualification\"])\n",
    "\n",
    "person_info[\"Qualification\"]=\"high academic level\"\n",
    "print(person_info[\"Qualification\"])\n",
    "\n",
    "del person_info[\"Qualification\"]\n",
    "print(person_info)"
   ]
  },
  {
   "cell_type": "code",
   "execution_count": 2,
   "metadata": {},
   "outputs": [
    {
     "name": "stdout",
     "output_type": "stream",
     "text": [
      "Hyderabad: {'population': 5734601, 'country': 'pakistan', 'fact': '2nd largest in sindh'}\n",
      "Karachi: {'population:': 1500000, 'country:': 'pakistan', 'fact': 'largest in Pakistan'}\n",
      "lahore: {'population:': 1000000, 'country:': 'pakistan', 'fact': '2nd largest in Pakistan'}\n"
     ]
    }
   ],
   "source": [
    "#task2\n",
    "cities={\"Hyderabad:\":{\"population\":5734601,\"country\":\"pakistan\",\"fact\":\"2nd largest in sindh\"},\n",
    "\n",
    "        \"Karachi:\":{\"population:\":1500000,\"country:\":\"pakistan\",\"fact\":\"largest in Pakistan\"},\n",
    "        \"lahore:\":{\"population:\":1000000,\"country:\":\"pakistan\",\"fact\":\"2nd largest in Pakistan\"}}\n",
    "for i,j in cities.items():\n",
    "    print(i,j)"
   ]
  },
  {
   "cell_type": "code",
   "execution_count": 4,
   "metadata": {},
   "outputs": [
    {
     "name": "stdout",
     "output_type": "stream",
     "text": [
      "enter '0' when you are finished\n",
      "enter your age:8\n",
      "Your ticket is $10\n",
      "enter '0' when you are finished\n",
      "enter your age:0\n"
     ]
    }
   ],
   "source": [
    "#task3\n",
    "while True:\n",
    "    print(\"enter '0' when you are finished\")\n",
    "    age = input(\"enter your age:\")\n",
    "    age = int(age)\n",
    "\n",
    "\n",
    "    if age == 0:\n",
    "        break\n",
    "    elif age <= 3:\n",
    "        print(\"Your ticket is free\")\n",
    "    elif age <= 10:\n",
    "        print(\"Your ticket is $10\")\n",
    "    else:\n",
    "        print(\"Your ticket is $15\")"
   ]
  },
  {
   "cell_type": "code",
   "execution_count": 5,
   "metadata": {},
   "outputs": [
    {
     "name": "stdout",
     "output_type": "stream",
     "text": [
      "my favorite books is Alice in Wonderland\n"
     ]
    }
   ],
   "source": [
    "#task4\n",
    "def favorite_book(title):\n",
    "    print(\"my favorite books is \"+title)\n",
    "title=\"Alice in Wonderland\"\n",
    "favorite_book(title)"
   ]
  },
  {
   "cell_type": "code",
   "execution_count": 6,
   "metadata": {},
   "outputs": [
    {
     "name": "stdout",
     "output_type": "stream",
     "text": [
      "17\n",
      "input the correct guess:9\n",
      "number is smaller than input\n",
      "input the correct guess:15\n",
      "number is smaller than input\n",
      "input the correct guess:9\n",
      "number is smaller than input\n",
      "you are failed to guess\n"
     ]
    }
   ],
   "source": [
    "#task5\n",
    "import random\n",
    "bolean=True\n",
    "n=1\n",
    "while bolean:\n",
    "    num=random.randint(1,30)\n",
    "    print(num)\n",
    "    for x in range(3):\n",
    "        y = int(input(\"input the correct guess:\"))\n",
    "        if y>num:\n",
    "            print(\"number is greater than input\")\n",
    "        elif y<num:\n",
    "            print(\"number is smaller than input\")\n",
    "        elif y==num:\n",
    "            print(\"congratulation your guess is correct\")\n",
    "            bolean=False\n",
    "            break\n",
    "        if x==2:\n",
    "            print(\"you are failed to guess\")\n",
    "            bolean = False\n",
    "            break\n",
    "\n",
    "\n"
   ]
  },
  {
   "cell_type": "code",
   "execution_count": null,
   "metadata": {},
   "outputs": [],
   "source": []
  }
 ],
 "metadata": {
  "kernelspec": {
   "display_name": "Python 3",
   "language": "python",
   "name": "python3"
  },
  "language_info": {
   "codemirror_mode": {
    "name": "ipython",
    "version": 3
   },
   "file_extension": ".py",
   "mimetype": "text/x-python",
   "name": "python",
   "nbconvert_exporter": "python",
   "pygments_lexer": "ipython3",
   "version": "3.7.4"
  }
 },
 "nbformat": 4,
 "nbformat_minor": 2
}
