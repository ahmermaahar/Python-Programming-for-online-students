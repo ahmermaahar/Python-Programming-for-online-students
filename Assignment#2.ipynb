{
 "cells": [
  {
   "cell_type": "code",
   "execution_count": 4,
   "metadata": {},
   "outputs": [
    {
     "name": "stdout",
     "output_type": "stream",
     "text": [
      "enter you name:ahmer\n",
      "enter your roll number:17cs17\n",
      "enter your school name:muet\n",
      "enter the marks of math:50\n",
      "enter the marks of science:60\n",
      "enter the marks of urdu:70\n",
      "enter the marks of sindhi:80\n",
      "enter the marks of islamiat:95\n",
      "         marksheet of muet\n",
      "NAME:ahmer\n",
      "Roll no:17cs17\n",
      "       math:50\n",
      "    science:60\n",
      "       urdu:70\n",
      "     sindhi:80\n",
      "   islamiat:95\n",
      "Total Marks:71 Grade:'A'\n"
     ]
    }
   ],
   "source": [
    "#task1\n",
    "name=input(\"enter you name:\")\n",
    "rollno=input(\"enter your roll number:\")\n",
    "schoolname=input(\"enter your school name:\")\n",
    "sub1=int(input(\"enter the marks of math:\"))\n",
    "sub2=int(input(\"enter the marks of science:\"))\n",
    "sub3=int(input(\"enter the marks of urdu:\"))\n",
    "sub4=int(input(\"enter the marks of sindhi:\"))\n",
    "sub5=int(input(\"enter the marks of islamiat:\"))\n",
    "total=((sub1+sub2+sub3+sub4+sub5)*100)//500\n",
    "if total<50:\n",
    "    print(\"         marksheet of \"+schoolname)\n",
    "    print(\"NAME:\"+name)\n",
    "    print(\"Roll no:\"+rollno)\n",
    "    print(\"       math:\"+str(sub1))\n",
    "    print(\"    science:\"+str(sub2))\n",
    "    print(\"       urdu:\"+str(sub3))\n",
    "    print(\"     sindhi:\"+str(sub4))\n",
    "    print(\"   islamiat:\"+str(sub5))\n",
    "    print(\"Total Marks:\"+str(total)+\" Grade:'F'\")\n",
    "elif total>80 and total<100:\n",
    "    print(\"         marksheet of \"+schoolname)\n",
    "    print(\"NAME:\"+name)\n",
    "    print(\"Roll no:\"+rollno)\n",
    "    print(\"       math:\"+str(sub1))\n",
    "    print(\"    science:\"+str(sub2))\n",
    "    print(\"       urdu:\"+str(sub3))\n",
    "    print(\"     sindhi:\"+str(sub4))\n",
    "    print(\"   islamiat:\"+str(sub5))\n",
    "    print(\"Total Marks:\"+str(total)+\" Grade:'A+'\")\n",
    "elif total>70 and total<80:\n",
    "    print(\"         marksheet of \"+schoolname)\n",
    "    print(\"NAME:\"+name)\n",
    "    print(\"Roll no:\"+rollno)\n",
    "    print(\"       math:\"+str(sub1))\n",
    "    print(\"    science:\"+str(sub2))\n",
    "    print(\"       urdu:\"+str(sub3))\n",
    "    print(\"     sindhi:\"+str(sub4))\n",
    "    print(\"   islamiat:\"+str(sub5))\n",
    "    print(\"Total Marks:\"+str(total)+\" Grade:'A'\")\n",
    "elif total>60 and total<70:\n",
    "    print(\"         marksheet of \"+schoolname)\n",
    "    print(\"NAME:\"+name)\n",
    "    print(\"Roll no:\"+rollno)\n",
    "    print(\"       math:\"+str(sub1))\n",
    "    print(\"    science:\"+str(sub2))\n",
    "    print(\"       urdu:\"+str(sub3))\n",
    "    print(\"     sindhi:\"+str(sub4))\n",
    "    print(\"   islamiat:\"+str(sub5))\n",
    "    print(\"Total Marks:\"+str(total)+\" Grade:'B'\")\n",
    "elif total>50 and total<60:\n",
    "    print(\"         marksheet of \"+schoolname)\n",
    "    print(\"NAME:\"+name)\n",
    "    print(\"Roll no:\"+rollno)\n",
    "    print(\"       math:\"+str(sub1))\n",
    "    print(\"    science:\"+str(sub2))\n",
    "    print(\"       urdu:\"+str(sub3))\n",
    "    print(\"     sindhi:\"+str(sub4))\n",
    "    print(\"   islamiat:\"+str(sub5))\n",
    "    print(\"Total Marks:\"+str(total)+\" Grade:'D'\")\n",
    "else:\n",
    "    print(\"some input values are not valid\")\n"
   ]
  },
  {
   "cell_type": "code",
   "execution_count": 5,
   "metadata": {},
   "outputs": [
    {
     "name": "stdout",
     "output_type": "stream",
     "text": [
      "enter number to check:5\n",
      "it is odd number\n"
     ]
    }
   ],
   "source": [
    "#task2\n",
    "x=int(input(\"enter number to check:\"))\n",
    "if x%2==0:\n",
    "    print(\"it is even number\")\n",
    "else:\n",
    "    print(\"it is odd number\")\n"
   ]
  },
  {
   "cell_type": "code",
   "execution_count": 6,
   "metadata": {},
   "outputs": [
    {
     "name": "stdout",
     "output_type": "stream",
     "text": [
      "11\n"
     ]
    }
   ],
   "source": [
    "#task3\n",
    "a = [1, 1, 2, 3, 5, 8, 13, 21, 34, 55, 89]\n",
    "print(len(a))\n"
   ]
  },
  {
   "cell_type": "code",
   "execution_count": 7,
   "metadata": {},
   "outputs": [
    {
     "name": "stdout",
     "output_type": "stream",
     "text": [
      "12\n"
     ]
    }
   ],
   "source": [
    "#task4\n",
    "a = [1, 1, 2, 3, 5]\n",
    "sum=a[0]+a[1]+a[2]+a[3]+a[4]\n",
    "print(sum)\n"
   ]
  },
  {
   "cell_type": "code",
   "execution_count": 8,
   "metadata": {},
   "outputs": [
    {
     "name": "stdout",
     "output_type": "stream",
     "text": [
      "89\n"
     ]
    }
   ],
   "source": [
    "#task5\n",
    "a = [1, 1, 2, 3, 5, 8, 13, 21, 34, 55, 89]\n",
    "length=len(a)\n",
    "n=a[0]\n",
    "for i in range(0, length):\n",
    "    if a[i]>n:\n",
    "        n=a[i]\n",
    "print(n)    \n"
   ]
  },
  {
   "cell_type": "code",
   "execution_count": 9,
   "metadata": {},
   "outputs": [
    {
     "name": "stdout",
     "output_type": "stream",
     "text": [
      "1\n",
      "1\n",
      "2\n",
      "3\n"
     ]
    }
   ],
   "source": [
    "#task6\n",
    "a = [1, 1, 2, 3, 5, 8, 13, 21, 34, 55, 89]\n",
    "length=len(a)\n",
    "for i in range(0,length):\n",
    "    if a[i]<5:\n",
    "        print(a[i])\n"
   ]
  },
  {
   "cell_type": "code",
   "execution_count": null,
   "metadata": {},
   "outputs": [],
   "source": []
  }
 ],
 "metadata": {
  "kernelspec": {
   "display_name": "Python 3",
   "language": "python",
   "name": "python3"
  },
  "language_info": {
   "codemirror_mode": {
    "name": "ipython",
    "version": 3
   },
   "file_extension": ".py",
   "mimetype": "text/x-python",
   "name": "python",
   "nbconvert_exporter": "python",
   "pygments_lexer": "ipython3",
   "version": "3.7.4"
  }
 },
 "nbformat": 4,
 "nbformat_minor": 2
}
