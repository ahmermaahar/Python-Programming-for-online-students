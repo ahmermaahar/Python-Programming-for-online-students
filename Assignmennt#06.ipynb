{
 "cells": [
  {
   "cell_type": "code",
   "execution_count": null,
   "metadata": {},
   "outputs": [],
   "source": [
    "#q1:Define Object Oriented Programming Language?\n",
    "#Ans:\n",
    "\"\"\"Object-oriented programming (OOP) is a programming language model in which programs\n",
    "are organized around data,or objects, rather than functions and logic. An object \n",
    "can be defined as a data field that has unique attributes and behavior.\"\"\""
   ]
  },
  {
   "cell_type": "code",
   "execution_count": null,
   "metadata": {},
   "outputs": [],
   "source": [
    "#q2:List down the Benefits of OOP?\n",
    "#Ans:\n",
    "\"\"\"modular structure\n",
    "easier to maintain.\n",
    "faster development.\n",
    "easily adapted and modified by the programmer.\n",
    "reused"
   ]
  },
  {
   "cell_type": "code",
   "execution_count": null,
   "metadata": {},
   "outputs": [],
   "source": [
    "#q3:Differentiate between function and method?\n",
    "#Ans:\n",
    "\"\"\"function:\n",
    "A function is a piece of code that is called by name. It can be passed data to operate on (i.e. the parameters)\n",
    "and can optionally return data (the return value).\n",
    "All data that is passed to a function is explicitly passed.\n",
    "Method:\n",
    "A method is a piece of code that is called by a name that is associated with an object. In most respects \n",
    "it is identical to a function except for two key differences:\n",
    "1-A method is implicitly passed the object on which it was called.\n",
    "2-A method is able to operate on data that is contained within the class (remembering that an object is an instance of a class\n",
    "- the class is the definition, the object is an instance of that data).\n"
   ]
  },
  {
   "cell_type": "code",
   "execution_count": null,
   "metadata": {},
   "outputs": [],
   "source": [
    "#q4:Define the following terms:\n",
    "\"\"\"1. Class\n",
    "2. Object\n",
    "3. Attribute\n",
    "4. Behavior\"\"\"\n",
    "#Ans:\n",
    "\"\"\"Class:\n",
    "It is template or blue print about capibility of what can object do.\n",
    "Object:\n",
    "An object(instance) is an instantiation of class.When class is defined\n",
    "only the description for the object is defined therefore no memory or storage is allocated.\n",
    "Attribute:\n",
    "Attributes are the properties of the object.\n",
    "Behavior:\n",
    "The behavior of an object is defined by its methods, which are the functions and subroutines defined within the object class.\n",
    "\n"
   ]
  },
  {
   "cell_type": "code",
   "execution_count": 16,
   "metadata": {},
   "outputs": [
    {
     "name": "stdout",
     "output_type": "stream",
     "text": [
      "coralla\n",
      "black\n",
      "after updaing:\n",
      "honda\n",
      "red\n"
     ]
    }
   ],
   "source": [
    "#q5\n",
    "class Car():\n",
    "    def __init__(self,model,color,name,serialno,length):\n",
    "        self.model=model\n",
    "        self.color=color\n",
    "        self.name=name\n",
    "        self.serialno=serialno\n",
    "        self.length=length\n",
    "    def updatename(self,newname):\n",
    "        self.name=newname\n",
    "    def changecolor(self,changecolor):\n",
    "        self.color=changecolor\n",
    "        \n",
    "car1=Car(2019,'black','coralla',123,15)\n",
    "car2=Car(2010,'black','mehran',123,15)\n",
    "car3=Car(2013,'black','suzuki',123,15)\n",
    "car4=Car(2019,'black','cultus',123,15)\n",
    "car5=Car(2019,'black','civic',123,15)\n",
    "print(car1.name)\n",
    "print(car1.color)\n",
    "\n",
    "car1.updatename('honda')\n",
    "car1.changecolor('red')\n",
    "print(\"after updaing:\")\n",
    "print(car1.name)\n",
    "print(car1.color)"
   ]
  },
  {
   "cell_type": "code",
   "execution_count": null,
   "metadata": {},
   "outputs": [],
   "source": []
  }
 ],
 "metadata": {
  "kernelspec": {
   "display_name": "Python 3",
   "language": "python",
   "name": "python3"
  },
  "language_info": {
   "codemirror_mode": {
    "name": "ipython",
    "version": 3
   },
   "file_extension": ".py",
   "mimetype": "text/x-python",
   "name": "python",
   "nbconvert_exporter": "python",
   "pygments_lexer": "ipython3",
   "version": "3.7.4"
  }
 },
 "nbformat": 4,
 "nbformat_minor": 2
}
