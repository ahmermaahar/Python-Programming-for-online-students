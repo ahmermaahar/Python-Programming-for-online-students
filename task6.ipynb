{
 "cells": [
  {
   "cell_type": "code",
   "execution_count": 6,
   "metadata": {},
   "outputs": [
    {
     "name": "stdout",
     "output_type": "stream",
     "text": [
      "enter your first nameahmer\n",
      "enter your last namemahar\n",
      "ahmer mahar\n"
     ]
    }
   ],
   "source": [
    "fname=input(\"enter your first name\")\n",
    "lname=input(\"enter your last name\")\n",
    "print(fname+\" \"+lname)"
   ]
  },
  {
   "cell_type": "code",
   "execution_count": 7,
   "metadata": {},
   "outputs": [
    {
     "name": "stdout",
     "output_type": "stream",
     "text": [
      "enter your first nameahmer\n",
      "enter your last namemahar\n",
      "ahmer mahar\n"
     ]
    }
   ],
   "source": [
    "fname=input(\"enter your first name\")\n",
    "lname=input(\"enter your last name\")\n",
    "print(fname+\" \"+lname)"
   ]
  },
  {
   "cell_type": "code",
   "execution_count": null,
   "metadata": {},
   "outputs": [],
   "source": []
  }
 ],
 "metadata": {
  "kernelspec": {
   "display_name": "Python 3",
   "language": "python",
   "name": "python3"
  },
  "language_info": {
   "codemirror_mode": {
    "name": "ipython",
    "version": 3
   },
   "file_extension": ".py",
   "mimetype": "text/x-python",
   "name": "python",
   "nbconvert_exporter": "python",
   "pygments_lexer": "ipython3",
   "version": "3.7.4"
  }
 },
 "nbformat": 4,
 "nbformat_minor": 2
}
